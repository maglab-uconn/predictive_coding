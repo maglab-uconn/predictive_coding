{
 "cells": [
  {
   "cell_type": "code",
   "execution_count": 1,
   "metadata": {},
   "outputs": [],
   "source": [
    "from SRN import Model, Softmax, Sigmoid"
   ]
  },
  {
   "cell_type": "code",
   "execution_count": 2,
   "metadata": {},
   "outputs": [],
   "source": [
    "original_Lexicon= 'ELP_groupData.csv'\n",
    "novel1_Lexicon= 'Novel_Lexicon_1.csv'\n",
    "novel2_Lexicon= 'Novel_Lexicon_2.csv'\n",
    "\n",
    "hidden_Unit= 200\n",
    "output_Function= Softmax\n",
    "\n",
    "original_Learning_Rate= 0.0001\n",
    "original_Max_Epoch= 10000\n",
    "original_Epoch_Batch_Size= 1000\n",
    "\n",
    "novel_Learning_Rate= 0.0001\n",
    "novel_Initial_Epoch= original_Max_Epoch\n",
    "novel_Max_Epoch= 10100\n",
    "novel_Epoch_Batch_Size= 10"
   ]
  },
  {
   "cell_type": "code",
   "execution_count": 3,
   "metadata": {},
   "outputs": [],
   "source": [
    "model_Dict = {}"
   ]
  },
  {
   "cell_type": "code",
   "execution_count": 4,
   "metadata": {},
   "outputs": [
    {
     "name": "stdout",
     "output_type": "stream",
     "text": [
      "Phoneme count: 41\n",
      "Word count: 37610\n",
      "Total pronunciation length: 37610\n",
      "Weight Matrix IH shape: (41, 200)\n",
      "Weight Matrix IH shape: (200, 200)\n",
      "Weight Matrix HO shape: (200, 41)\n",
      "Bias Matrix H shape: (1, 200)\n",
      "Bias Matrix O shape: (1, 41)\n"
     ]
    }
   ],
   "source": [
    "model_Dict['Pre', 'Frequency'] = Model(\n",
    "    hidden_Unit= hidden_Unit,\n",
    "    output_Function= Softmax,\n",
    "    lexicon_File= original_Lexicon,\n",
    "    use_Frequency = True    \n",
    "    )"
   ]
  },
  {
   "cell_type": "code",
   "execution_count": null,
   "metadata": {
    "scrolled": false
   },
   "outputs": [],
   "source": [
    "model_Dict['Pre', 'Frequency'].Train(\n",
    "    learning_Rate= original_Learning_Rate,\n",
    "    max_Epoch= original_Max_Epoch,\n",
    "    epoch_Batch_Size= original_Epoch_Batch_Size,\n",
    "    mode=\"Normal\",\n",
    "    test_Pronunciation = 'fOrmj@l@'\n",
    "    )"
   ]
  },
  {
   "cell_type": "code",
   "execution_count": 5,
   "metadata": {},
   "outputs": [
    {
     "name": "stdout",
     "output_type": "stream",
     "text": [
      "Phoneme count: 41\n",
      "Word count: 37610\n",
      "Total pronunciation length: 37610\n",
      "Weight Matrix IH shape: (41, 200)\n",
      "Weight Matrix IH shape: (200, 200)\n",
      "Weight Matrix HO shape: (200, 41)\n",
      "Bias Matrix H shape: (1, 200)\n",
      "Bias Matrix O shape: (1, 41)\n"
     ]
    }
   ],
   "source": [
    "model_Dict['Pre', 'Non_Frequency'] = Model(\n",
    "    hidden_Unit= hidden_Unit,\n",
    "    output_Function= Softmax,\n",
    "    lexicon_File= original_Lexicon,\n",
    "    use_Frequency = False    \n",
    "    )"
   ]
  },
  {
   "cell_type": "code",
   "execution_count": null,
   "metadata": {},
   "outputs": [],
   "source": [
    "model_Dict['Pre', 'Non_Frequency'].Train(\n",
    "    learning_Rate= original_Learning_Rate,\n",
    "    max_Epoch= original_Max_Epoch,\n",
    "    epoch_Batch_Size= original_Epoch_Batch_Size,\n",
    "    mode=\"Normal\",\n",
    "    test_Pronunciation = 'fOrmj@l@'\n",
    "    )"
   ]
  },
  {
   "cell_type": "code",
   "execution_count": 6,
   "metadata": {},
   "outputs": [
    {
     "name": "stdout",
     "output_type": "stream",
     "text": [
      "Phoneme count: 41\n",
      "Word count: 37610\n",
      "Total pronunciation length: 37610\n",
      "Weight Matrix IH shape: (41, 200)\n",
      "Weight Matrix IH shape: (200, 200)\n",
      "Weight Matrix HO shape: (200, 41)\n",
      "Bias Matrix H shape: (1, 200)\n",
      "Bias Matrix O shape: (1, 41)\n"
     ]
    }
   ],
   "source": [
    "model_Dict['Post_Novel1', 'Frequency'] = Model(\n",
    "    hidden_Unit= hidden_Unit,\n",
    "    output_Function= Softmax,\n",
    "    lexicon_File= original_Lexicon,\n",
    "    additional_Lexicon_File= novel1_Lexicon,\n",
    "    weight_File= './Result/Use_Frequency/Weight/Weight.M_Normal.E_10000.pickle',\n",
    "    use_Frequency = True\n",
    "    )"
   ]
  },
  {
   "cell_type": "code",
   "execution_count": 7,
   "metadata": {
    "scrolled": true
   },
   "outputs": [
    {
     "name": "stderr",
     "output_type": "stream",
     "text": [
      "MSE: 0.15350:  39%|█████████████████████████▋                                        | 81/208 [00:00<00:00, 809.82it/s]"
     ]
    },
    {
     "name": "stdout",
     "output_type": "stream",
     "text": [
      "10000 - 10010 Pattern string generating\n"
     ]
    },
    {
     "name": "stderr",
     "output_type": "stream",
     "text": [
      "MSE: 0.14379: 100%|█████████████████████████████████████████████████████████████████| 208/208 [00:00<00:00, 866.25it/s]\n",
      "MSE: 0.13937:  39%|█████████████████████████▊                                        | 85/217 [00:00<00:00, 849.80it/s]"
     ]
    },
    {
     "name": "stdout",
     "output_type": "stream",
     "text": [
      "10010 - 10020 Pattern string generating\n"
     ]
    },
    {
     "name": "stderr",
     "output_type": "stream",
     "text": [
      "MSE: 0.14219: 100%|█████████████████████████████████████████████████████████████████| 217/217 [00:00<00:00, 871.29it/s]\n",
      "MSE: 0.14790:  47%|██████████████████████████████▉                                   | 83/177 [00:00<00:00, 829.81it/s]"
     ]
    },
    {
     "name": "stdout",
     "output_type": "stream",
     "text": [
      "10020 - 10030 Pattern string generating\n"
     ]
    },
    {
     "name": "stderr",
     "output_type": "stream",
     "text": [
      "MSE: 0.16802: 100%|█████████████████████████████████████████████████████████████████| 177/177 [00:00<00:00, 826.71it/s]\n",
      "MSE: 0.13916:  44%|█████████████████████████████                                     | 87/198 [00:00<00:00, 869.80it/s]"
     ]
    },
    {
     "name": "stdout",
     "output_type": "stream",
     "text": [
      "10030 - 10040 Pattern string generating\n"
     ]
    },
    {
     "name": "stderr",
     "output_type": "stream",
     "text": [
      "MSE: 0.16377: 100%|█████████████████████████████████████████████████████████████████| 198/198 [00:00<00:00, 887.69it/s]\n",
      "MSE: 0.12657:  44%|█████████████████████████████                                     | 86/195 [00:00<00:00, 851.30it/s]"
     ]
    },
    {
     "name": "stdout",
     "output_type": "stream",
     "text": [
      "10040 - 10050 Pattern string generating\n"
     ]
    },
    {
     "name": "stderr",
     "output_type": "stream",
     "text": [
      "MSE: 0.12906: 100%|█████████████████████████████████████████████████████████████████| 195/195 [00:00<00:00, 858.84it/s]\n",
      "MSE: 0.14582:  45%|█████████████████████████████▌                                    | 83/185 [00:00<00:00, 822.54it/s]"
     ]
    },
    {
     "name": "stdout",
     "output_type": "stream",
     "text": [
      "10050 - 10060 Pattern string generating\n"
     ]
    },
    {
     "name": "stderr",
     "output_type": "stream",
     "text": [
      "MSE: 0.14816: 100%|█████████████████████████████████████████████████████████████████| 185/185 [00:00<00:00, 818.82it/s]\n",
      "MSE: 0.14995:  42%|███████████████████████████▍                                      | 81/195 [00:00<00:00, 809.80it/s]"
     ]
    },
    {
     "name": "stdout",
     "output_type": "stream",
     "text": [
      "10060 - 10070 Pattern string generating\n"
     ]
    },
    {
     "name": "stderr",
     "output_type": "stream",
     "text": [
      "MSE: 0.14223: 100%|█████████████████████████████████████████████████████████████████| 195/195 [00:00<00:00, 706.36it/s]\n",
      "MSE: 0.14320:  46%|██████████████████████████████▍                                   | 88/191 [00:00<00:00, 871.09it/s]"
     ]
    },
    {
     "name": "stdout",
     "output_type": "stream",
     "text": [
      "10070 - 10080 Pattern string generating\n"
     ]
    },
    {
     "name": "stderr",
     "output_type": "stream",
     "text": [
      "MSE: 0.09257: 100%|█████████████████████████████████████████████████████████████████| 191/191 [00:00<00:00, 896.51it/s]\n",
      "MSE: 0.14958:  39%|██████████████████████████                                        | 88/223 [00:00<00:00, 879.80it/s]"
     ]
    },
    {
     "name": "stdout",
     "output_type": "stream",
     "text": [
      "10080 - 10090 Pattern string generating\n"
     ]
    },
    {
     "name": "stderr",
     "output_type": "stream",
     "text": [
      "MSE: 0.12279: 100%|█████████████████████████████████████████████████████████████████| 223/223 [00:00<00:00, 895.38it/s]\n",
      "MSE: 0.15091:  46%|██████████████████████████████                                    | 87/191 [00:00<00:00, 869.80it/s]"
     ]
    },
    {
     "name": "stdout",
     "output_type": "stream",
     "text": [
      "10090 - 10100 Pattern string generating\n"
     ]
    },
    {
     "name": "stderr",
     "output_type": "stream",
     "text": [
      "MSE: 0.16066: 100%|█████████████████████████████████████████████████████████████████| 191/191 [00:00<00:00, 896.51it/s]\n"
     ]
    }
   ],
   "source": [
    "model_Dict['Post_Novel1', 'Frequency'].Train(\n",
    "    learning_Rate= novel_Learning_Rate,\n",
    "    max_Epoch= novel_Max_Epoch,\n",
    "    epoch_Batch_Size= novel_Epoch_Batch_Size,\n",
    "    mode=\"Addition\",\n",
    "    test_Pronunciation = 'fOrmj@l@',\n",
    "    initial_Epoch= novel_Initial_Epoch,\n",
    "    tag= '.Novel1'\n",
    "    )"
   ]
  },
  {
   "cell_type": "code",
   "execution_count": 8,
   "metadata": {},
   "outputs": [
    {
     "name": "stdout",
     "output_type": "stream",
     "text": [
      "Phoneme count: 41\n",
      "Word count: 37610\n",
      "Total pronunciation length: 37610\n",
      "Weight Matrix IH shape: (41, 200)\n",
      "Weight Matrix IH shape: (200, 200)\n",
      "Weight Matrix HO shape: (200, 41)\n",
      "Bias Matrix H shape: (1, 200)\n",
      "Bias Matrix O shape: (1, 41)\n"
     ]
    }
   ],
   "source": [
    "model_Dict['Post_Novel1', 'Non_Frequency'] = Model(\n",
    "    hidden_Unit= hidden_Unit,\n",
    "    output_Function= Softmax,\n",
    "    lexicon_File= original_Lexicon,\n",
    "    additional_Lexicon_File= novel1_Lexicon,\n",
    "    weight_File= './Result/Non_Frequency/Weight/Weight.M_Normal.E_10000.pickle',\n",
    "    use_Frequency = False\n",
    "    )"
   ]
  },
  {
   "cell_type": "code",
   "execution_count": 9,
   "metadata": {
    "scrolled": true
   },
   "outputs": [
    {
     "name": "stderr",
     "output_type": "stream",
     "text": [
      "MSE: 0.14245:  24%|███████████████▊                                                  | 85/354 [00:00<00:00, 849.81it/s]"
     ]
    },
    {
     "name": "stdout",
     "output_type": "stream",
     "text": [
      "10000 - 10010 Pattern string generating\n"
     ]
    },
    {
     "name": "stderr",
     "output_type": "stream",
     "text": [
      "MSE: 0.15557: 100%|█████████████████████████████████████████████████████████████████| 354/354 [00:00<00:00, 848.73it/s]\n",
      "MSE: 0.15038:  24%|███████████████▋                                                  | 84/354 [00:00<00:00, 839.81it/s]"
     ]
    },
    {
     "name": "stdout",
     "output_type": "stream",
     "text": [
      "10010 - 10020 Pattern string generating\n"
     ]
    },
    {
     "name": "stderr",
     "output_type": "stream",
     "text": [
      "MSE: 0.15062: 100%|█████████████████████████████████████████████████████████████████| 354/354 [00:00<00:00, 830.80it/s]\n",
      "MSE: 0.14818:  23%|███████████████▎                                                  | 82/354 [00:00<00:00, 819.36it/s]"
     ]
    },
    {
     "name": "stdout",
     "output_type": "stream",
     "text": [
      "10020 - 10030 Pattern string generating\n"
     ]
    },
    {
     "name": "stderr",
     "output_type": "stream",
     "text": [
      "MSE: 0.13877: 100%|█████████████████████████████████████████████████████████████████| 354/354 [00:00<00:00, 816.89it/s]\n",
      "MSE: 0.12371:  26%|████████████████▉                                                 | 91/354 [00:00<00:00, 903.06it/s]"
     ]
    },
    {
     "name": "stdout",
     "output_type": "stream",
     "text": [
      "10030 - 10040 Pattern string generating\n"
     ]
    },
    {
     "name": "stderr",
     "output_type": "stream",
     "text": [
      "MSE: 0.13972: 100%|█████████████████████████████████████████████████████████████████| 354/354 [00:00<00:00, 883.15it/s]\n",
      "MSE: 0.14218:  24%|███████████████▋                                                  | 84/354 [00:00<00:00, 839.81it/s]"
     ]
    },
    {
     "name": "stdout",
     "output_type": "stream",
     "text": [
      "10040 - 10050 Pattern string generating\n"
     ]
    },
    {
     "name": "stderr",
     "output_type": "stream",
     "text": [
      "MSE: 0.14709: 100%|█████████████████████████████████████████████████████████████████| 354/354 [00:00<00:00, 846.70it/s]\n",
      "MSE: 0.14280:  23%|███████████████                                                   | 81/354 [00:00<00:00, 809.82it/s]"
     ]
    },
    {
     "name": "stdout",
     "output_type": "stream",
     "text": [
      "10050 - 10060 Pattern string generating\n"
     ]
    },
    {
     "name": "stderr",
     "output_type": "stream",
     "text": [
      "MSE: 0.13201: 100%|█████████████████████████████████████████████████████████████████| 354/354 [00:00<00:00, 806.12it/s]\n",
      "MSE: 0.12920:  24%|███████████████▋                                                  | 84/354 [00:00<00:00, 839.81it/s]"
     ]
    },
    {
     "name": "stdout",
     "output_type": "stream",
     "text": [
      "10060 - 10070 Pattern string generating\n"
     ]
    },
    {
     "name": "stderr",
     "output_type": "stream",
     "text": [
      "MSE: 0.13169: 100%|█████████████████████████████████████████████████████████████████| 354/354 [00:00<00:00, 771.07it/s]\n",
      "MSE: 0.12967:  23%|███████████████                                                   | 81/354 [00:00<00:00, 809.81it/s]"
     ]
    },
    {
     "name": "stdout",
     "output_type": "stream",
     "text": [
      "10070 - 10080 Pattern string generating\n"
     ]
    },
    {
     "name": "stderr",
     "output_type": "stream",
     "text": [
      "MSE: 0.11508: 100%|█████████████████████████████████████████████████████████████████| 354/354 [00:00<00:00, 842.67it/s]\n",
      "MSE: 0.11639:  23%|███████████████▎                                                  | 82/354 [00:00<00:00, 819.81it/s]"
     ]
    },
    {
     "name": "stdout",
     "output_type": "stream",
     "text": [
      "10080 - 10090 Pattern string generating\n"
     ]
    },
    {
     "name": "stderr",
     "output_type": "stream",
     "text": [
      "MSE: 0.13012: 100%|█████████████████████████████████████████████████████████████████| 354/354 [00:00<00:00, 836.69it/s]\n",
      "MSE: 0.14573:  25%|████████████████▍                                                 | 88/354 [00:00<00:00, 879.80it/s]"
     ]
    },
    {
     "name": "stdout",
     "output_type": "stream",
     "text": [
      "10090 - 10100 Pattern string generating\n"
     ]
    },
    {
     "name": "stderr",
     "output_type": "stream",
     "text": [
      "MSE: 0.12414: 100%|█████████████████████████████████████████████████████████████████| 354/354 [00:00<00:00, 854.88it/s]\n"
     ]
    }
   ],
   "source": [
    "model_Dict['Post_Novel1', 'Non_Frequency'].Train(\n",
    "    learning_Rate= novel_Learning_Rate,\n",
    "    max_Epoch= novel_Max_Epoch,\n",
    "    epoch_Batch_Size= novel_Epoch_Batch_Size,\n",
    "    mode=\"Addition\",\n",
    "    test_Pronunciation = 'fOrmj@l@',\n",
    "    initial_Epoch= novel_Initial_Epoch,\n",
    "    tag= '.Novel1'\n",
    "    )"
   ]
  },
  {
   "cell_type": "code",
   "execution_count": null,
   "metadata": {},
   "outputs": [],
   "source": []
  },
  {
   "cell_type": "code",
   "execution_count": null,
   "metadata": {},
   "outputs": [],
   "source": []
  },
  {
   "cell_type": "code",
   "execution_count": null,
   "metadata": {},
   "outputs": [],
   "source": []
  },
  {
   "cell_type": "code",
   "execution_count": 10,
   "metadata": {},
   "outputs": [
    {
     "name": "stdout",
     "output_type": "stream",
     "text": [
      "Phoneme count: 41\n",
      "Word count: 37610\n",
      "Total pronunciation length: 37610\n",
      "Weight Matrix IH shape: (41, 200)\n",
      "Weight Matrix IH shape: (200, 200)\n",
      "Weight Matrix HO shape: (200, 41)\n",
      "Bias Matrix H shape: (1, 200)\n",
      "Bias Matrix O shape: (1, 41)\n"
     ]
    }
   ],
   "source": [
    "model_Dict['Post_Novel2', 'Frequency'] = Model(\n",
    "    hidden_Unit= hidden_Unit,\n",
    "    output_Function= Softmax,\n",
    "    lexicon_File= original_Lexicon,\n",
    "    additional_Lexicon_File= novel2_Lexicon,\n",
    "    weight_File= './Result/Use_Frequency/Weight/Weight.M_Normal.E_10000.pickle',\n",
    "    use_Frequency = True\n",
    "    )"
   ]
  },
  {
   "cell_type": "code",
   "execution_count": 11,
   "metadata": {},
   "outputs": [
    {
     "name": "stderr",
     "output_type": "stream",
     "text": [
      "MSE: 0.14934:  44%|████████████████████████████▉                                     | 83/189 [00:00<00:00, 829.82it/s]"
     ]
    },
    {
     "name": "stdout",
     "output_type": "stream",
     "text": [
      "10000 - 10010 Pattern string generating\n"
     ]
    },
    {
     "name": "stderr",
     "output_type": "stream",
     "text": [
      "MSE: 0.04269: 100%|█████████████████████████████████████████████████████████████████| 189/189 [00:00<00:00, 862.82it/s]\n",
      "MSE: 0.15336:  47%|██████████████████████████████▊                                   | 85/182 [00:00<00:00, 849.81it/s]"
     ]
    },
    {
     "name": "stdout",
     "output_type": "stream",
     "text": [
      "10010 - 10020 Pattern string generating\n"
     ]
    },
    {
     "name": "stderr",
     "output_type": "stream",
     "text": [
      "MSE: 0.13295: 100%|█████████████████████████████████████████████████████████████████| 182/182 [00:00<00:00, 879.03it/s]\n",
      "MSE: 0.15883:  45%|█████████████████████████████▊                                    | 88/195 [00:00<00:00, 871.10it/s]"
     ]
    },
    {
     "name": "stdout",
     "output_type": "stream",
     "text": [
      "10020 - 10030 Pattern string generating\n"
     ]
    },
    {
     "name": "stderr",
     "output_type": "stream",
     "text": [
      "MSE: 0.16543: 100%|█████████████████████████████████████████████████████████████████| 195/195 [00:00<00:00, 906.77it/s]\n",
      "MSE: 0.15350:  44%|████████████████████████████▊                                     | 86/197 [00:00<00:00, 859.82it/s]"
     ]
    },
    {
     "name": "stdout",
     "output_type": "stream",
     "text": [
      "10030 - 10040 Pattern string generating\n"
     ]
    },
    {
     "name": "stderr",
     "output_type": "stream",
     "text": [
      "MSE: 0.15133: 100%|█████████████████████████████████████████████████████████████████| 197/197 [00:00<00:00, 860.07it/s]\n",
      "MSE: 0.13372:  44%|█████████████████████████████                                     | 88/200 [00:00<00:00, 879.81it/s]"
     ]
    },
    {
     "name": "stdout",
     "output_type": "stream",
     "text": [
      "10040 - 10050 Pattern string generating\n"
     ]
    },
    {
     "name": "stderr",
     "output_type": "stream",
     "text": [
      "MSE: 0.15158: 100%|█████████████████████████████████████████████████████████████████| 200/200 [00:00<00:00, 884.76it/s]\n",
      "MSE: 0.14022:  42%|████████████████████████████                                      | 87/205 [00:00<00:00, 869.81it/s]"
     ]
    },
    {
     "name": "stdout",
     "output_type": "stream",
     "text": [
      "10050 - 10060 Pattern string generating\n"
     ]
    },
    {
     "name": "stderr",
     "output_type": "stream",
     "text": [
      "MSE: 0.12953: 100%|█████████████████████████████████████████████████████████████████| 205/205 [00:00<00:00, 883.42it/s]\n",
      "MSE: 0.14855:  39%|█████████████████████████▉                                        | 84/214 [00:00<00:00, 831.48it/s]"
     ]
    },
    {
     "name": "stdout",
     "output_type": "stream",
     "text": [
      "10060 - 10070 Pattern string generating\n"
     ]
    },
    {
     "name": "stderr",
     "output_type": "stream",
     "text": [
      "MSE: 0.11014: 100%|█████████████████████████████████████████████████████████████████| 214/214 [00:00<00:00, 717.96it/s]\n",
      "MSE: 0.14972:  38%|████████████████████████▊                                         | 87/232 [00:00<00:00, 869.81it/s]"
     ]
    },
    {
     "name": "stdout",
     "output_type": "stream",
     "text": [
      "10070 - 10080 Pattern string generating\n"
     ]
    },
    {
     "name": "stderr",
     "output_type": "stream",
     "text": [
      "MSE: 0.13068: 100%|█████████████████████████████████████████████████████████████████| 232/232 [00:00<00:00, 939.06it/s]\n",
      "MSE: 0.13970:  45%|█████████████████████████████▌                                    | 90/201 [00:00<00:00, 899.80it/s]"
     ]
    },
    {
     "name": "stdout",
     "output_type": "stream",
     "text": [
      "10080 - 10090 Pattern string generating\n"
     ]
    },
    {
     "name": "stderr",
     "output_type": "stream",
     "text": [
      "MSE: 0.16708: 100%|█████████████████████████████████████████████████████████████████| 201/201 [00:00<00:00, 893.13it/s]\n",
      "MSE: 0.14652:  45%|█████████████████████████████▉                                    | 87/192 [00:00<00:00, 861.19it/s]"
     ]
    },
    {
     "name": "stdout",
     "output_type": "stream",
     "text": [
      "10090 - 10100 Pattern string generating\n"
     ]
    },
    {
     "name": "stderr",
     "output_type": "stream",
     "text": [
      "MSE: 0.15192: 100%|█████████████████████████████████████████████████████████████████| 192/192 [00:00<00:00, 888.69it/s]\n"
     ]
    }
   ],
   "source": [
    "model_Dict['Post_Novel2', 'Frequency'].Train(\n",
    "    learning_Rate= novel_Learning_Rate,\n",
    "    max_Epoch= novel_Max_Epoch,\n",
    "    epoch_Batch_Size= novel_Epoch_Batch_Size,\n",
    "    mode=\"Addition\",\n",
    "    test_Pronunciation = 'fOrmj@l@',\n",
    "    initial_Epoch= novel_Initial_Epoch,\n",
    "    tag= '.Novel2'\n",
    "    )"
   ]
  },
  {
   "cell_type": "code",
   "execution_count": 12,
   "metadata": {},
   "outputs": [
    {
     "name": "stdout",
     "output_type": "stream",
     "text": [
      "Phoneme count: 41\n",
      "Word count: 37610\n",
      "Total pronunciation length: 37610\n",
      "Weight Matrix IH shape: (41, 200)\n",
      "Weight Matrix IH shape: (200, 200)\n",
      "Weight Matrix HO shape: (200, 41)\n",
      "Bias Matrix H shape: (1, 200)\n",
      "Bias Matrix O shape: (1, 41)\n"
     ]
    }
   ],
   "source": [
    "model_Dict['Post_Novel2', 'Non_Frequency'] = Model(\n",
    "    hidden_Unit= hidden_Unit,\n",
    "    output_Function= Softmax,\n",
    "    lexicon_File= original_Lexicon,\n",
    "    additional_Lexicon_File= novel2_Lexicon,\n",
    "    weight_File= './Result/Non_Frequency/Weight/Weight.M_Normal.E_10000.pickle',\n",
    "    use_Frequency = False\n",
    "    )"
   ]
  },
  {
   "cell_type": "code",
   "execution_count": 13,
   "metadata": {},
   "outputs": [
    {
     "name": "stderr",
     "output_type": "stream",
     "text": [
      "MSE: 0.14788:  24%|███████████████▌                                                  | 83/353 [00:00<00:00, 829.81it/s]"
     ]
    },
    {
     "name": "stdout",
     "output_type": "stream",
     "text": [
      "10000 - 10010 Pattern string generating\n"
     ]
    },
    {
     "name": "stderr",
     "output_type": "stream",
     "text": [
      "MSE: 0.14749: 100%|█████████████████████████████████████████████████████████████████| 353/353 [00:00<00:00, 875.73it/s]\n",
      "MSE: 0.14713:  25%|████████████████▋                                                 | 89/353 [00:00<00:00, 889.80it/s]"
     ]
    },
    {
     "name": "stdout",
     "output_type": "stream",
     "text": [
      "10010 - 10020 Pattern string generating\n"
     ]
    },
    {
     "name": "stderr",
     "output_type": "stream",
     "text": [
      "MSE: 0.15237: 100%|█████████████████████████████████████████████████████████████████| 353/353 [00:00<00:00, 867.13it/s]\n",
      "MSE: 0.15152:  24%|███████████████▋                                                  | 84/353 [00:00<00:00, 839.79it/s]"
     ]
    },
    {
     "name": "stdout",
     "output_type": "stream",
     "text": [
      "10020 - 10030 Pattern string generating\n"
     ]
    },
    {
     "name": "stderr",
     "output_type": "stream",
     "text": [
      "MSE: 0.15309: 100%|█████████████████████████████████████████████████████████████████| 353/353 [00:00<00:00, 862.88it/s]\n",
      "MSE: 0.14809:  20%|█████████████▍                                                    | 72/353 [00:00<00:00, 719.84it/s]"
     ]
    },
    {
     "name": "stdout",
     "output_type": "stream",
     "text": [
      "10030 - 10040 Pattern string generating\n"
     ]
    },
    {
     "name": "stderr",
     "output_type": "stream",
     "text": [
      "MSE: 0.15007: 100%|█████████████████████████████████████████████████████████████████| 353/353 [00:00<00:00, 820.54it/s]\n",
      "MSE: 0.14228:  25%|████████████████▎                                                 | 87/353 [00:00<00:00, 869.81it/s]"
     ]
    },
    {
     "name": "stdout",
     "output_type": "stream",
     "text": [
      "10040 - 10050 Pattern string generating\n"
     ]
    },
    {
     "name": "stderr",
     "output_type": "stream",
     "text": [
      "MSE: 0.13345: 100%|█████████████████████████████████████████████████████████████████| 353/353 [00:00<00:00, 873.53it/s]\n",
      "MSE: 0.12810:  24%|███████████████▋                                                  | 84/353 [00:00<00:00, 839.72it/s]"
     ]
    },
    {
     "name": "stdout",
     "output_type": "stream",
     "text": [
      "10050 - 10060 Pattern string generating\n"
     ]
    },
    {
     "name": "stderr",
     "output_type": "stream",
     "text": [
      "MSE: 0.13548: 100%|█████████████████████████████████████████████████████████████████| 353/353 [00:00<00:00, 866.98it/s]\n",
      "MSE: 0.13204:  23%|███████████████▎                                                  | 82/353 [00:00<00:00, 819.81it/s]"
     ]
    },
    {
     "name": "stdout",
     "output_type": "stream",
     "text": [
      "10060 - 10070 Pattern string generating\n"
     ]
    },
    {
     "name": "stderr",
     "output_type": "stream",
     "text": [
      "MSE: 0.11060: 100%|█████████████████████████████████████████████████████████████████| 353/353 [00:00<00:00, 746.13it/s]\n",
      "MSE: 0.13272:  23%|███████████████▎                                                  | 82/353 [00:00<00:00, 819.82it/s]"
     ]
    },
    {
     "name": "stdout",
     "output_type": "stream",
     "text": [
      "10070 - 10080 Pattern string generating\n"
     ]
    },
    {
     "name": "stderr",
     "output_type": "stream",
     "text": [
      "MSE: 0.13218: 100%|█████████████████████████████████████████████████████████████████| 353/353 [00:00<00:00, 824.58it/s]\n",
      "MSE: 0.14182:  23%|███████████████▏                                                  | 81/353 [00:00<00:00, 809.82it/s]"
     ]
    },
    {
     "name": "stdout",
     "output_type": "stream",
     "text": [
      "10080 - 10090 Pattern string generating\n"
     ]
    },
    {
     "name": "stderr",
     "output_type": "stream",
     "text": [
      "MSE: 0.12599: 100%|█████████████████████████████████████████████████████████████████| 353/353 [00:00<00:00, 836.31it/s]\n",
      "MSE: 0.13771:  25%|████████████████▍                                                 | 88/353 [00:00<00:00, 879.80it/s]"
     ]
    },
    {
     "name": "stdout",
     "output_type": "stream",
     "text": [
      "10090 - 10100 Pattern string generating\n"
     ]
    },
    {
     "name": "stderr",
     "output_type": "stream",
     "text": [
      "MSE: 0.11717: 100%|█████████████████████████████████████████████████████████████████| 353/353 [00:00<00:00, 856.60it/s]\n"
     ]
    }
   ],
   "source": [
    "model_Dict['Post_Novel2', 'Non_Frequency'].Train(\n",
    "    learning_Rate= novel_Learning_Rate,\n",
    "    max_Epoch= novel_Max_Epoch,\n",
    "    epoch_Batch_Size= novel_Epoch_Batch_Size,\n",
    "    mode=\"Addition\",\n",
    "    test_Pronunciation = 'fOrmj@l@',\n",
    "    initial_Epoch= novel_Initial_Epoch,\n",
    "    tag= '.Novel2'\n",
    "    )"
   ]
  }
 ],
 "metadata": {
  "kernelspec": {
   "display_name": "Python 3",
   "language": "python",
   "name": "python3"
  },
  "language_info": {
   "codemirror_mode": {
    "name": "ipython",
    "version": 3
   },
   "file_extension": ".py",
   "mimetype": "text/x-python",
   "name": "python",
   "nbconvert_exporter": "python",
   "pygments_lexer": "ipython3",
   "version": "3.7.6"
  }
 },
 "nbformat": 4,
 "nbformat_minor": 4
}
