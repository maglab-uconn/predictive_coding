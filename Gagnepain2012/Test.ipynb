{
 "cells": [
  {
   "cell_type": "code",
   "execution_count": 1,
   "metadata": {},
   "outputs": [],
   "source": [
    "from Gagnepain2012 import Model"
   ]
  },
  {
   "cell_type": "code",
   "execution_count": 2,
   "metadata": {},
   "outputs": [],
   "source": [
    "lexicon = 'ELP_groupData.csv'\n",
    "novel1 = 'Novel_Lexicon_1.csv'\n",
    "novel2 = 'Novel_Lexicon_2.csv'"
   ]
  },
  {
   "cell_type": "code",
   "execution_count": 3,
   "metadata": {},
   "outputs": [],
   "source": [
    "novel1_Words = [\n",
    "    x.split(',')[2]\n",
    "    for x in open (novel1, \"r\").readlines()[1:]\n",
    "    ]\n",
    "novel2_Words = [\n",
    "    x.split(',')[2]\n",
    "    for x in open (novel2, \"r\").readlines()[1:]\n",
    "    ]"
   ]
  },
  {
   "cell_type": "code",
   "execution_count": 4,
   "metadata": {},
   "outputs": [],
   "source": [
    "model_Dict = {\n",
    "    ('Original', 'Non_Frequency'): Model(\n",
    "        lexicon_File = lexicon,\n",
    "        additional_Lexicon_File = None,\n",
    "        use_Frequency= False\n",
    "        ),\n",
    "    ('Use_Novel1', 'Non_Frequency'): Model(\n",
    "        lexicon_File = lexicon,\n",
    "        additional_Lexicon_File = novel1,\n",
    "        use_Frequency= False\n",
    "        ),\n",
    "    ('Use_Novel2', 'Non_Frequency'): Model(\n",
    "        lexicon_File = lexicon,\n",
    "        additional_Lexicon_File = novel2,\n",
    "        use_Frequency= False\n",
    "        ),\n",
    "    ('Original', 'Frequency'): Model(\n",
    "        lexicon_File = lexicon,\n",
    "        additional_Lexicon_File = None,\n",
    "        use_Frequency= True\n",
    "        ),\n",
    "    ('Use_Novel1', 'Frequency'): Model(\n",
    "        lexicon_File = lexicon,\n",
    "        additional_Lexicon_File = novel1,\n",
    "        use_Frequency= True\n",
    "        ),\n",
    "    ('Use_Novel2', 'Frequency'): Model(\n",
    "        lexicon_File = lexicon,\n",
    "        additional_Lexicon_File = novel2,\n",
    "        use_Frequency= True\n",
    "        ),\n",
    "    }"
   ]
  },
  {
   "cell_type": "code",
   "execution_count": 5,
   "metadata": {},
   "outputs": [],
   "source": [
    "original_Labels, originals, novel1_Labels, novel1s, novel2_Labels, novel2s, *_ = zip(*[\n",
    "    x.split(',')\n",
    "    for x in open ('gagnepain_items_revised.csv', 'r').readlines()[1:]\n",
    "    ])"
   ]
  },
  {
   "cell_type": "code",
   "execution_count": 23,
   "metadata": {
    "scrolled": false
   },
   "outputs": [],
   "source": [
    "import math\n",
    "\n",
    "max_Length = max([len(x) for x in originals + novel1s + novel2s])\n",
    "exports = ['Dataset', 'Use_Frequency', 'Ortho', 'Phono']\n",
    "exports += ['Err_{}'.format(index) for index in range(max_Length)]\n",
    "exports = ['\\t'.join(exports)]\n",
    "\n",
    "for dataset in ['Original', 'Use_Novel1', 'Use_Novel2']:\n",
    "    for frequency in ['Non_Frequency', 'Frequency']:            \n",
    "        for labels, patterns in [(original_Labels, originals), (novel1_Labels, novel1s), (novel2_Labels, novel2s)]:                    \n",
    "            for label, pattern in zip(labels, patterns):\n",
    "                errors = model_Dict[dataset, frequency].Test(pattern)\n",
    "                errors += (max_Length - len(errors)) * [math.nan]\n",
    "                errors = ['{:.5f}'.format(x) for x in model_Dict[dataset, frequency].Test(pattern)]\n",
    "\n",
    "                line = []\n",
    "                line.extend([dataset, frequency, label, pattern])\n",
    "                exports.append('\\t'.join(line + errors))"
   ]
  },
  {
   "cell_type": "code",
   "execution_count": 24,
   "metadata": {},
   "outputs": [
    {
     "data": {
      "text/plain": [
       "87465"
      ]
     },
     "execution_count": 24,
     "metadata": {},
     "output_type": "execute_result"
    }
   ],
   "source": [
    "open('Gagnepain2012_Results.txt', 'w').write('\\n'.join(exports))"
   ]
  }
 ],
 "metadata": {
  "kernelspec": {
   "display_name": "Python 3",
   "language": "python",
   "name": "python3"
  },
  "language_info": {
   "codemirror_mode": {
    "name": "ipython",
    "version": 3
   },
   "file_extension": ".py",
   "mimetype": "text/x-python",
   "name": "python",
   "nbconvert_exporter": "python",
   "pygments_lexer": "ipython3",
   "version": "3.7.6"
  }
 },
 "nbformat": 4,
 "nbformat_minor": 4
}
